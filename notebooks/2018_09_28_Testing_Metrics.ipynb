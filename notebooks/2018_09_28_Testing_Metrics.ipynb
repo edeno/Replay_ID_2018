{
 "cells": [
  {
   "cell_type": "code",
   "execution_count": 1,
   "metadata": {},
   "outputs": [],
   "source": [
    "%matplotlib inline\n",
    "%reload_ext autoreload\n",
    "%autoreload 2\n",
    "%config InlineBackend.figure_format = 'retina'\n",
    "%qtconsole"
   ]
  },
  {
   "cell_type": "code",
   "execution_count": 2,
   "metadata": {},
   "outputs": [],
   "source": [
    "import pandas as pd\n",
    "import xarray as xr\n",
    "import numpy as np\n",
    "import matplotlib.pyplot as plt\n",
    "\n",
    "import logging\n",
    "logging.basicConfig(level=logging.INFO)"
   ]
  },
  {
   "cell_type": "code",
   "execution_count": 3,
   "metadata": {},
   "outputs": [],
   "source": [
    "from src.parameters import ANIMALS, SAMPLING_FREQUENCY, BRAIN_AREAS\n",
    "\n",
    "epoch_key = ('bon', 3, 2)"
   ]
  },
  {
   "cell_type": "code",
   "execution_count": 4,
   "metadata": {},
   "outputs": [
    {
     "name": "stderr",
     "output_type": "stream",
     "text": [
      "INFO:src.load_data:Loading Data...\n",
      "WARNING:loren_frank_data_processing.core:Failed to load file: /Users/edeno/Documents/GitHub/Replay_ID_2018/src/../Raw-Data/Bond/bonDIO03.mat\n",
      "WARNING:loren_frank_data_processing.core:No DIO file found, using distance from well to segment trials\n",
      "WARNING:loren_frank_data_processing.core:Failed to load file: /Users/edeno/Documents/GitHub/Replay_ID_2018/src/../Raw-Data/Bond/bonDIO03.mat\n",
      "WARNING:loren_frank_data_processing.core:No DIO file found, inferring correct inbound/outbound from task rules\n",
      "INFO:spectral_connectivity.transforms:Multitaper(sampling_frequency=1500, time_halfbandwidth_product=1,\n",
      "           time_window_duration=0.02, time_window_step=0.02,\n",
      "           detrend_type='constant', start_time=3729.0257, n_tapers=1)\n",
      "WARNING:loren_frank_data_processing.core:dav, 1, 4 not processed\n",
      "WARNING:loren_frank_data_processing.core:egy, 12, 1 not processed\n",
      "WARNING:loren_frank_data_processing.core:egy, 12, 2 not processed\n",
      "WARNING:loren_frank_data_processing.core:egy, 12, 3 not processed\n",
      "WARNING:loren_frank_data_processing.core:egy, 12, 4 not processed\n",
      "WARNING:loren_frank_data_processing.core:egy, 12, 5 not processed\n",
      "WARNING:loren_frank_data_processing.core:egy, 12, 6 not processed\n",
      "WARNING:loren_frank_data_processing.core:egy, 12, 7 not processed\n",
      "WARNING:loren_frank_data_processing.core:egy, 12, 8 not processed\n",
      "WARNING:loren_frank_data_processing.core:fra, 4, 1 not processed\n",
      "WARNING:loren_frank_data_processing.core:gov, 2, 3 not processed\n",
      "WARNING:loren_frank_data_processing.core:gov, 2, 4 not processed\n",
      "WARNING:loren_frank_data_processing.core:gov, 2, 5 not processed\n",
      "WARNING:loren_frank_data_processing.core:gov, 2, 6 not processed\n",
      "WARNING:loren_frank_data_processing.core:gov, 2, 7 not processed\n",
      "INFO:src.load_data:Finding multiunit high synchrony events...\n",
      "INFO:src.load_data:Finding ripple times...\n"
     ]
    }
   ],
   "source": [
    "from src.load_data import load_data\n",
    "\n",
    "use_likelihoods = ['spikes', 'lfp_power']\n",
    "\n",
    "data = load_data(epoch_key, ANIMALS, SAMPLING_FREQUENCY, use_likelihoods, BRAIN_AREAS)"
   ]
  },
  {
   "cell_type": "code",
   "execution_count": 7,
   "metadata": {},
   "outputs": [
    {
     "name": "stderr",
     "output_type": "stream",
     "text": [
      "INFO:replay_identification.decoders:Fitting speed model...\n",
      "INFO:replay_identification.decoders:Fitting LFP power model...\n",
      "INFO:replay_identification.decoders:Fitting spiking model...\n"
     ]
    },
    {
     "data": {
      "application/vnd.jupyter.widget-view+json": {
       "model_id": "53658b81c7f648358dfd25c12ef04ee7",
       "version_major": 2,
       "version_minor": 0
      },
      "text/plain": [
       "HBox(children=(IntProgress(value=0, description='neurons', max=19), HTML(value='')))"
      ]
     },
     "metadata": {},
     "output_type": "display_data"
    },
    {
     "name": "stderr",
     "output_type": "stream",
     "text": [
      "INFO:replay_identification.decoders:Fitting movement state transition...\n",
      "INFO:replay_identification.decoders:Fitting replay state transition...\n"
     ]
    },
    {
     "name": "stdout",
     "output_type": "stream",
     "text": [
      "\n"
     ]
    },
    {
     "name": "stderr",
     "output_type": "stream",
     "text": [
      "INFO:replay_identification.decoders:Predicting lfp_power likelihood...\n",
      "INFO:replay_identification.decoders:Predicting spikes likelihood...\n"
     ]
    },
    {
     "data": {
      "application/vnd.jupyter.widget-view+json": {
       "model_id": "02fe7ca0fa8c497cbced3c86f4d83e35",
       "version_major": 2,
       "version_minor": 0
      },
      "text/plain": [
       "HBox(children=(IntProgress(value=0, max=19), HTML(value='')))"
      ]
     },
     "metadata": {},
     "output_type": "display_data"
    },
    {
     "name": "stdout",
     "output_type": "stream",
     "text": [
      "\n"
     ]
    },
    {
     "data": {
      "application/vnd.jupyter.widget-view+json": {
       "model_id": "7c918ff966ec400d8e52ccf22943cba4",
       "version_major": 2,
       "version_minor": 0
      },
      "text/plain": [
       "HBox(children=(IntProgress(value=0, max=19), HTML(value='')))"
      ]
     },
     "metadata": {},
     "output_type": "display_data"
    },
    {
     "name": "stdout",
     "output_type": "stream",
     "text": [
      "\n"
     ]
    },
    {
     "name": "stderr",
     "output_type": "stream",
     "text": [
      "INFO:replay_identification.decoders:Predicting replay probability and density...\n"
     ]
    }
   ],
   "source": [
    "from src.analysis import identify_replays\n",
    "\n",
    "results, detector = identify_replays(data, use_likelihoods)"
   ]
  },
  {
   "cell_type": "code",
   "execution_count": 306,
   "metadata": {},
   "outputs": [],
   "source": [
    "from src.analysis import get_replay_times\n",
    "\n",
    "replay_times, labels = get_replay_times(results)"
   ]
  },
  {
   "cell_type": "code",
   "execution_count": 307,
   "metadata": {},
   "outputs": [
    {
     "data": {
      "text/html": [
       "<div>\n",
       "<style scoped>\n",
       "    .dataframe tbody tr th:only-of-type {\n",
       "        vertical-align: middle;\n",
       "    }\n",
       "\n",
       "    .dataframe tbody tr th {\n",
       "        vertical-align: top;\n",
       "    }\n",
       "\n",
       "    .dataframe thead th {\n",
       "        text-align: right;\n",
       "    }\n",
       "</style>\n",
       "<table border=\"1\" class=\"dataframe\">\n",
       "  <thead>\n",
       "    <tr style=\"text-align: right;\">\n",
       "      <th></th>\n",
       "      <th>start_time</th>\n",
       "      <th>end_time</th>\n",
       "      <th>duration</th>\n",
       "      <th>max_probability</th>\n",
       "    </tr>\n",
       "    <tr>\n",
       "      <th>replay_number</th>\n",
       "      <th></th>\n",
       "      <th></th>\n",
       "      <th></th>\n",
       "      <th></th>\n",
       "    </tr>\n",
       "  </thead>\n",
       "  <tbody>\n",
       "    <tr>\n",
       "      <th>1</th>\n",
       "      <td>01:02:22.825700</td>\n",
       "      <td>01:02:22.985033</td>\n",
       "      <td>00:00:00.159333</td>\n",
       "      <td>0.999903</td>\n",
       "    </tr>\n",
       "    <tr>\n",
       "      <th>2</th>\n",
       "      <td>01:02:27.105700</td>\n",
       "      <td>01:02:27.265033</td>\n",
       "      <td>00:00:00.159333</td>\n",
       "      <td>0.999999</td>\n",
       "    </tr>\n",
       "    <tr>\n",
       "      <th>3</th>\n",
       "      <td>01:02:35.965700</td>\n",
       "      <td>01:02:36.045033</td>\n",
       "      <td>00:00:00.079333</td>\n",
       "      <td>0.994431</td>\n",
       "    </tr>\n",
       "    <tr>\n",
       "      <th>4</th>\n",
       "      <td>01:02:38.145700</td>\n",
       "      <td>01:02:38.245033</td>\n",
       "      <td>00:00:00.099333</td>\n",
       "      <td>0.996903</td>\n",
       "    </tr>\n",
       "    <tr>\n",
       "      <th>5</th>\n",
       "      <td>01:03:19.745700</td>\n",
       "      <td>01:03:19.837033</td>\n",
       "      <td>00:00:00.091333</td>\n",
       "      <td>0.996957</td>\n",
       "    </tr>\n",
       "  </tbody>\n",
       "</table>\n",
       "</div>"
      ],
      "text/plain": [
       "                   start_time        end_time        duration  max_probability\n",
       "replay_number                                                                 \n",
       "1             01:02:22.825700 01:02:22.985033 00:00:00.159333         0.999903\n",
       "2             01:02:27.105700 01:02:27.265033 00:00:00.159333         0.999999\n",
       "3             01:02:35.965700 01:02:36.045033 00:00:00.079333         0.994431\n",
       "4             01:02:38.145700 01:02:38.245033 00:00:00.099333         0.996903\n",
       "5             01:03:19.745700 01:03:19.837033 00:00:00.091333         0.996957"
      ]
     },
     "execution_count": 307,
     "metadata": {},
     "output_type": "execute_result"
    }
   ],
   "source": [
    "replay_times.head()"
   ]
  },
  {
   "cell_type": "code",
   "execution_count": 308,
   "metadata": {},
   "outputs": [
    {
     "data": {
      "text/plain": [
       "<xarray.Dataset>\n",
       "Dimensions:             (position: 187, time: 1396490)\n",
       "Coordinates:\n",
       "  * time                (time) timedelta64[ns] 01:02:09.025700 ... 01:17:40.018366\n",
       "  * position            (position) float64 0.4979 1.494 2.489 ... 184.7 185.7\n",
       "Data variables:\n",
       "    replay_probability  (time) float64 0.0 1.233e-06 ... 1.306e-06 1.306e-06\n",
       "    replay_posterior    (time, position) float64 0.0 0.0 ... 1.491e-06 1.491e-06\n",
       "    prior               (time, position) float64 0.0 0.0 ... 1.478e-06 1.479e-06\n",
       "    likelihood          (time, position) float64 1.743 1.744 ... 1.008 1.008"
      ]
     },
     "execution_count": 308,
     "metadata": {},
     "output_type": "execute_result"
    }
   ],
   "source": [
    "results"
   ]
  },
  {
   "cell_type": "code",
   "execution_count": 11,
   "metadata": {},
   "outputs": [
    {
     "data": {
      "text/plain": [
       "<xarray.DataArray 'replay_posterior' (time: 1396490, position: 187)>\n",
       "array([[0.000000e+00, 0.000000e+00, 0.000000e+00, ..., 0.000000e+00,\n",
       "        0.000000e+00, 0.000000e+00],\n",
       "       [1.246875e-06, 1.247435e-06, 1.247771e-06, ..., 1.255199e-06,\n",
       "        1.255388e-06, 1.255522e-06],\n",
       "       [2.493327e-06, 2.494431e-06, 2.495045e-06, ..., 2.517551e-06,\n",
       "        2.518078e-06, 2.518424e-06],\n",
       "       ...,\n",
       "       [1.381562e-06, 1.381475e-06, 1.380409e-06, ..., 1.487029e-06,\n",
       "        1.488281e-06, 1.488965e-06],\n",
       "       [1.382364e-06, 1.382276e-06, 1.381207e-06, ..., 1.488225e-06,\n",
       "        1.489480e-06, 1.490165e-06],\n",
       "       [1.383086e-06, 1.382998e-06, 1.381926e-06, ..., 1.489313e-06,\n",
       "        1.490571e-06, 1.491257e-06]])\n",
       "Coordinates:\n",
       "  * time      (time) timedelta64[ns] 01:02:09.025700 ... 01:17:40.018366\n",
       "  * position  (position) float64 0.4979 1.494 2.489 3.485 ... 183.7 184.7 185.7"
      ]
     },
     "execution_count": 11,
     "metadata": {},
     "output_type": "execute_result"
    }
   ],
   "source": [
    "results.replay_posterior"
   ]
  },
  {
   "cell_type": "code",
   "execution_count": 310,
   "metadata": {},
   "outputs": [],
   "source": [
    "replay_position_info = (data['position_info'].loc[replay_times.start_time]\n",
    "                        .set_index(replay_times.index))\n",
    "replay_info = pd.concat((replay_times, replay_position_info), axis=1)\n"
   ]
  },
  {
   "cell_type": "code",
   "execution_count": 309,
   "metadata": {},
   "outputs": [],
   "source": [
    "replay_posterior = xr.concat(\n",
    "    [(results.replay_posterior\n",
    "      .sel(time=slice(r.start_time, r.end_time))\n",
    "      .assign_coords(time=lambda da: da.time - r.start_time))\n",
    "     for r in replay_times.itertuples()], dim=replay_times.index)"
   ]
  },
  {
   "cell_type": "code",
   "execution_count": 338,
   "metadata": {},
   "outputs": [
    {
     "name": "stderr",
     "output_type": "stream",
     "text": [
      "INFO:replay_classification.decoders:Fitting state transition model...\n",
      "INFO:replay_classification.decoders:Fitting observation model...\n"
     ]
    }
   ],
   "source": [
    "from replay_classification import SortedSpikeDecoder\n",
    "\n",
    "\n",
    "def _get_test_spikes(data, labels, replay_number, sampling_frequency):\n",
    "    test_spikes = data['spikes'][labels.replay_number == replay_number].T\n",
    "    n_time = test_spikes.shape[1]\n",
    "    time = np.arange(0, n_time) / sampling_frequency\n",
    "    return test_spikes, time\n",
    "    \n",
    "def decode_replays(data, detector, labels, replay_times, sampling_frequency):\n",
    "    is_training = (data['position_info'].linear_speed > 4) & data['position_info'].is_correct\n",
    "    train_position_info = data['position_info'].loc[is_training]\n",
    "    train_spikes = data['spikes'][is_training]\n",
    "    \n",
    "    decoder = SortedSpikeDecoder(\n",
    "        position=train_position_info.linear_distance.values,\n",
    "        lagged_position=train_position_info.lagged_linear_distance.values,\n",
    "        trajectory_direction=train_position_info.task.values,\n",
    "        spikes=train_spikes.T,\n",
    "        replay_speedup_factor=detector.replay_speed,\n",
    "        n_position_bins=detector.place_bin_centers.size,\n",
    "        confidence_threshold=0.8,\n",
    "        knot_spacing=detector.spike_model_knot_spacing,\n",
    "    ).fit()\n",
    "    \n",
    "    decoder_results = [\n",
    "        decoder.predict(*_get_test_spikes(data, labels, replay_number, sampling_frequency))\n",
    "         for replay_number in replay_times.index]\n",
    "    \n",
    "    return decoder_results, decoder\n",
    "\n",
    "decoder_results, decoder = decode_replays(data, detector, labels, replay_times, SAMPLING_FREQUENCY)"
   ]
  },
  {
   "cell_type": "code",
   "execution_count": 386,
   "metadata": {},
   "outputs": [],
   "source": [
    "replay_info, detector_posterior, decoder_posterior = summarize_replays(\n",
    "    replay_times, results, decoder_results, data)"
   ]
  },
  {
   "cell_type": "code",
   "execution_count": 390,
   "metadata": {},
   "outputs": [
    {
     "data": {
      "application/vnd.jupyter.widget-view+json": {
       "model_id": "f0730119788e4fd1b3234614c1ec3349",
       "version_major": 2,
       "version_minor": 0
      },
      "text/plain": [
       "interactive(children=(IntSlider(value=159, description='index', max=318), Output()), _dom_classes=('widget-int…"
      ]
     },
     "metadata": {},
     "output_type": "display_data"
    }
   ],
   "source": [
    "from ipywidgets import interact\n",
    "\n",
    "n_replays = replay_info.shape[0] - 1\n",
    "\n",
    "@interact(index=(0, n_replays), continuous_update=False)\n",
    "def plot_posterior(index):\n",
    "    fig, ax = plt.subplots(1, 1, figsize=(10, 7))\n",
    "    p = (replay_posterior\n",
    "     .assign_coords(time=replay_posterior.time.to_index().total_seconds())\n",
    "     .isel(replay_number=index)\n",
    "     .dropna('time'))\n",
    "    g = (p\n",
    "     .plot(x='time', y='position', robust=True));\n",
    "\n",
    "    g.axes.axhline(replay_info.iloc[index].linear_distance,\n",
    "                   color='white', linestyle='--', linewidth=5,\n",
    "                  label='animal position')\n",
    "    \n",
    "    replay_position = p.position.values[\n",
    "        np.log(p).argmax('position').values]\n",
    "    plt.plot(p.time, replay_position, label='MAP')\n",
    "    \n",
    "    plt.legend()\n",
    "    \n",
    "    d = decoder_results[index]\n",
    "    \n",
    "    plt.figure()\n",
    "    d.plot_posterior_density()\n",
    "    g = d.plot_state_probability()\n",
    "    g.axhline(decoder.confidence_threshold,\n",
    "              linestyle='--', color='black')\n",
    "    g.set_ylim((0, 1))\n",
    "    g.set_ylabel('State Probability')\n",
    "    \n",
    "    plt.figure();\n",
    "    pd = d.results.sum('state').posterior_density\n",
    "    pd.plot(\n",
    "        x='time', y='position', robust=True)\n",
    "    replay_position = pd.position.values[\n",
    "        np.log(pd).argmax('position').values]\n",
    "    plt.plot(p.time, replay_position, label='MAP')\n",
    "    \n",
    "    COLUMNS = ['linear_distance', 'linear_speed', 'replay_type',\n",
    "               'replay_type_confidence', 'replay_motion_slope',\n",
    "               'replay_motion_type', 'replay_movement_distance',\n",
    "               'credible_interval_size', 'duration']\n",
    "    display(replay_info.loc[index + 1, COLUMNS])\n"
   ]
  },
  {
   "cell_type": "code",
   "execution_count": null,
   "metadata": {},
   "outputs": [],
   "source": []
  }
 ],
 "metadata": {
  "kernelspec": {
   "display_name": "Python 3",
   "language": "python",
   "name": "python3"
  },
  "language_info": {
   "codemirror_mode": {
    "name": "ipython",
    "version": 3
   },
   "file_extension": ".py",
   "mimetype": "text/x-python",
   "name": "python",
   "nbconvert_exporter": "python",
   "pygments_lexer": "ipython3",
   "version": "3.6.7"
  }
 },
 "nbformat": 4,
 "nbformat_minor": 2
}
