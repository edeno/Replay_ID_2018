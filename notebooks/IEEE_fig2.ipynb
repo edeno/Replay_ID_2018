{
 "cells": [
  {
   "cell_type": "code",
   "execution_count": 1,
   "metadata": {},
   "outputs": [],
   "source": [
    "%matplotlib inline\n",
    "%reload_ext autoreload\n",
    "%autoreload 2\n",
    "%config InlineBackend.figure_format = 'retina'"
   ]
  },
  {
   "cell_type": "code",
   "execution_count": 2,
   "metadata": {},
   "outputs": [],
   "source": [
    "import logging\n",
    "import os\n",
    "\n",
    "import matplotlib\n",
    "import seaborn as sns\n",
    "import numpy as np\n",
    "import matplotlib.pyplot as plt\n",
    "\n",
    "\n",
    "# Set background and fontsize\n",
    "rc_params = {\n",
    "    'pdf.fonttype': 42, # Make fonts editable in Adobe Illustrator\n",
    "    'ps.fonttype': 42, # Make fonts editable in Adobe Illustrator\n",
    "    'axes.labelcolor': '#222222',\n",
    "    'axes.labelsize': 8,\n",
    "    'text.color': '#222222',\n",
    "    'font.sans-serif' : 'Times New Roman',\n",
    "    'text.usetex': False,\n",
    "    'figure.figsize': (7.2, 4.45),\n",
    "    'xtick.major.size': 0.00,\n",
    "    'ytick.major.size': 0.00,\n",
    "    'axes.labelpad': 0.1,\n",
    "    }\n",
    "sns.set(style='white', context='paper', rc=rc_params,\n",
    "        font_scale=1.0)\n",
    "\n",
    "# Enable logging\n",
    "logging.basicConfig(level=logging.INFO)"
   ]
  },
  {
   "cell_type": "code",
   "execution_count": 3,
   "metadata": {},
   "outputs": [],
   "source": [
    "from src.parameters import ANIMALS, SAMPLING_FREQUENCY, USE_LIKELIHOODS, BRAIN_AREAS\n",
    "\n",
    "epoch_key = ('bon', 3, 2)"
   ]
  },
  {
   "cell_type": "code",
   "execution_count": 4,
   "metadata": {},
   "outputs": [
    {
     "name": "stderr",
     "output_type": "stream",
     "text": [
      "INFO:src.load_data:Loading data...\n",
      "WARNING:loren_frank_data_processing.core:Failed to load file: /Users/edeno/Documents/GitHub/Replay_ID_2018/src/../Raw-Data/Bond/bonDIO03.mat\n",
      "WARNING:loren_frank_data_processing.core:No DIO file found, using distance from well to segment trials\n",
      "WARNING:loren_frank_data_processing.core:Failed to load file: /Users/edeno/Documents/GitHub/Replay_ID_2018/src/../Raw-Data/Bond/bonDIO03.mat\n",
      "WARNING:loren_frank_data_processing.core:No DIO file found, inferring correct inbound/outbound from task rules\n",
      "INFO:src.load_data:Finding multiunit high synchrony events...\n",
      "INFO:src.load_data:Finding ripple times...\n",
      "INFO:spectral_connectivity.transforms:Multitaper(sampling_frequency=1000, time_halfbandwidth_product=1,\n",
      "           time_window_duration=0.02, time_window_step=0.02,\n",
      "           detrend_type='constant', start_time=3729.0257, n_tapers=1)\n",
      "INFO:src.load_data:Estimating gamma power...\n",
      "INFO:spectral_connectivity.transforms:Multitaper(sampling_frequency=1000, time_halfbandwidth_product=1,\n",
      "           time_window_duration=0.1, time_window_step=0.1,\n",
      "           detrend_type='constant', start_time=3729.0257, n_tapers=1)\n"
     ]
    }
   ],
   "source": [
    "import itertools\n",
    "from src.load_data import load_data\n",
    "\n",
    "speed_metric='linear_speed'\n",
    "\n",
    "data_types = set(['sorted_spikes', 'ad_hoc_ripple'])\n",
    "data = load_data(epoch_key)"
   ]
  },
  {
   "cell_type": "code",
   "execution_count": 5,
   "metadata": {},
   "outputs": [
    {
     "name": "stderr",
     "output_type": "stream",
     "text": [
      "INFO:replay_identification.decoders:Fitting speed model...\n",
      "INFO:replay_identification.decoders:Fitting spiking model...\n"
     ]
    },
    {
     "data": {
      "application/vnd.jupyter.widget-view+json": {
       "model_id": "957b96bdbd654436b808629ad93dbfb0",
       "version_major": 2,
       "version_minor": 0
      },
      "text/plain": [
       "HBox(children=(IntProgress(value=0, description='neurons', max=17, style=ProgressStyle(description_width='init…"
      ]
     },
     "metadata": {},
     "output_type": "display_data"
    },
    {
     "name": "stderr",
     "output_type": "stream",
     "text": [
      "INFO:replay_identification.decoders:Fitting replay movement state transition...\n"
     ]
    },
    {
     "name": "stdout",
     "output_type": "stream",
     "text": [
      "\n"
     ]
    },
    {
     "name": "stderr",
     "output_type": "stream",
     "text": [
      "INFO:replay_identification.decoders:Fitting replay state transition...\n"
     ]
    },
    {
     "data": {
      "text/plain": [
       "ReplayDetector(infer_track_interior=True,\n",
       "               lfp_model=<class 'sklearn.mixture.bayesian_mixture.BayesianGaussianMixture'>,\n",
       "               lfp_model_kwargs={'max_iter': 200, 'n_components': 1,\n",
       "                                 'tol': 1e-06},\n",
       "               movement_state_transition_type='w_track_1D_random_walk',\n",
       "               movement_var=4.0,\n",
       "               multiunit_density_model=<class 'replay_identification.multiunit_likelihood.NumbaKDE'>,\n",
       "               multiunit_mo...: array([24., 24., 24., 24.,  6.])},\n",
       "               multiunit_occupancy_kwargs={'bandwidth': array([6.])},\n",
       "               multiunit_occupancy_model=<class 'replay_identification.multiunit_likelihood.NumbaKDE'>,\n",
       "               place_bin_size=2.0, position_range=None, replay_speed=1,\n",
       "               replay_state_transition_penalty=1e-05, speed_knots=None,\n",
       "               speed_threshold=4.0, spike_model_knot_spacing=5,\n",
       "               spike_model_penalty=0.5)"
      ]
     },
     "execution_count": 5,
     "metadata": {},
     "output_type": "execute_result"
    }
   ],
   "source": [
    "from replay_identification import ReplayDetector\n",
    "\n",
    "speed_metric = 'speed'\n",
    "position_metric = 'linear_position2'\n",
    "\n",
    "replay_detector = ReplayDetector(movement_state_transition_type='w_track_1D_random_walk')\n",
    "replay_detector.fit(\n",
    "    is_ripple=data['is_ripple'], speed=data['position_info'][speed_metric],\n",
    "    position=data['position_info'][position_metric], spikes=data['spikes'],\n",
    "    track_labels=data['position_info'].arm_name.values)"
   ]
  },
  {
   "cell_type": "code",
   "execution_count": 6,
   "metadata": {},
   "outputs": [
    {
     "name": "stderr",
     "output_type": "stream",
     "text": [
      "INFO:replay_identification.decoders:Predicting spikes likelihood...\n"
     ]
    },
    {
     "data": {
      "application/vnd.jupyter.widget-view+json": {
       "model_id": "bd74a7e451bd458dad394df9fae57d53",
       "version_major": 2,
       "version_minor": 0
      },
      "text/plain": [
       "HBox(children=(IntProgress(value=0, description='neurons', max=17, style=ProgressStyle(description_width='init…"
      ]
     },
     "metadata": {},
     "output_type": "display_data"
    },
    {
     "name": "stdout",
     "output_type": "stream",
     "text": [
      "\n"
     ]
    },
    {
     "data": {
      "application/vnd.jupyter.widget-view+json": {
       "model_id": "9c9aa67ba82d41638acef37698a97f35",
       "version_major": 2,
       "version_minor": 0
      },
      "text/plain": [
       "HBox(children=(IntProgress(value=0, description='neurons', max=17, style=ProgressStyle(description_width='init…"
      ]
     },
     "metadata": {},
     "output_type": "display_data"
    },
    {
     "name": "stdout",
     "output_type": "stream",
     "text": [
      "\n"
     ]
    },
    {
     "name": "stderr",
     "output_type": "stream",
     "text": [
      "INFO:replay_identification.decoders:Finding causal replay probability and position...\n",
      "INFO:replay_identification.decoders:Finding acausal replay probability and position...\n"
     ]
    }
   ],
   "source": [
    "detector_results = replay_detector.predict(\n",
    "    speed=data['position_info'][speed_metric],\n",
    "    position=data['position_info'][position_metric],\n",
    "    lfp_power=data['ripple_power'],\n",
    "    spikes=data['spikes'],\n",
    "    time=data['position_info'].index,\n",
    "    use_likelihoods=['spikes'],\n",
    "    use_smoother=True)"
   ]
  },
  {
   "cell_type": "code",
   "execution_count": 294,
   "metadata": {},
   "outputs": [],
   "source": [
    "def plot_replay_with_data(replay_number, data, replay_info, epoch_key=None,\n",
    "                          replay_detector=None,\n",
    "                          spikes_detector_results=None,\n",
    "                          lfp_power_detector_results=None,\n",
    "                          multiunit_detector_results=None,\n",
    "                          sampling_frequency=1500,\n",
    "                          offset=pd.Timedelta(0.250, 's'),\n",
    "                          position_metric='linear_distance',\n",
    "                          speed_metric='linear_speed',\n",
    "                          is_relative_time=False,\n",
    "                          show_data_types=None, show_result_types=None):\n",
    "    start_time = replay_info.loc[replay_number].start_time - offset\n",
    "    end_time = replay_info.loc[replay_number].end_time + offset\n",
    "    position_info = data['position_info'].loc[start_time:end_time]\n",
    "    time = position_info.index.total_seconds()\n",
    "    spike_results = (spikes_detector_results\n",
    "                 .sel(time=slice(start_time, end_time))\n",
    "                 .assign_coords(\n",
    "                     time=lambda ds: ds.time / np.timedelta64(1, 's')))\n",
    "    fig, axes = plt.subplots(3, 1, figsize=(ONE_COLUMN, ONE_COLUMN),\n",
    "                             constrained_layout=True, sharex=True,\n",
    "                             gridspec_kw={'height_ratios': [1, 2, 2]})\n",
    "    plt.ticklabel_format(useOffset=False)\n",
    "    cbar_kwargs = {\n",
    "        'ticks': [0, 0.1],\n",
    "        'orientation': 'vertical',\n",
    "    }\n",
    "\n",
    "    spike_kwargs = {\n",
    "        'zorder': 0,\n",
    "        'marker': '|',\n",
    "        's': 20, \n",
    "        'linewidth': 1,\n",
    "    }\n",
    "    \n",
    "    # Plot 1\n",
    "    spike_results.replay_probability.plot(\n",
    "        x='time', label='Non-Local', ax=axes[0], linewidth=2,\n",
    "        color='#e377c2')\n",
    "    (1 - spike_results.replay_probability).plot(\n",
    "        x='time', label='Local', ax=axes[0], linewidth=2,\n",
    "        color='#9467bd')\n",
    "    axes[0].set_yticks([0, 1])\n",
    "    axes[0].set_title('')\n",
    "    axes[0].set_ylabel('Probability')\n",
    "    axes[0].tick_params(length=0)\n",
    "    axes[0].set_xlabel('')\n",
    "#     axes[0].legend(loc='upper right',\n",
    "#                    frameon=False, bbox_to_anchor=(1.4, 1.0),\n",
    "#                    handlelength=1)\n",
    "    axes[0].text(4434.4, 0.70, 'Local', color='#9467bd')\n",
    "    axes[0].text(4434.65, 0.70, 'Non-Local', color='#e377c2')\n",
    "\n",
    "    # Plot 2\n",
    "    min_df = (data['position_info']\n",
    "          .groupby('arm_name')[position_metric].min())\n",
    "    max_df = (data['position_info']\n",
    "              .groupby('arm_name')[position_metric].max())\n",
    "    is_between_arms = ((spike_results.position > max_df['Center Arm']) & (spike_results.position < min_df['Right Arm']) |\n",
    "                       (spike_results.position > max_df['Right Arm']) & (spike_results.position < min_df['Left Arm']))\n",
    "    spike_results.acausal_posterior.rename('Posterior').sum('state').where(~is_between_arms, np.nan).plot(x='time', y='position',\n",
    "                                         vmin=0.0, vmax=0.1, ax=axes[1], rasterized=True, cbar_kwargs=cbar_kwargs)\n",
    "    axes[1].set_ylabel('Position [cm]')\n",
    "    axes[1].set_yticks([0, np.ceil(spike_results.position.values.max())])\n",
    "#     axes[1].plot(position_info.index.total_seconds(),\n",
    "#                  position_info[position_metric].values,\n",
    "#                  linewidth=3, linestyle='--', color='white')\n",
    "    axes[1].set_title('')\n",
    "    \n",
    "    min_time = np.asarray(spike_results.time.min())\n",
    "    for arm_name, max_position in max_df.iteritems():\n",
    "        axes[1].text(min_time, max_position - 5, arm_name, color='white',\n",
    "                     verticalalignment='top', fontsize=8)\n",
    "    axes[1].tick_params(length=0)\n",
    "    axes[1].set_xlabel('')\n",
    "    \n",
    "    # Plot 3\n",
    "    place_bin_centers = replay_detector.place_bin_centers_.squeeze(axis=-1)\n",
    "    place_bin_edges = replay_detector.place_bin_edges_.squeeze(axis=-1)\n",
    "    is_track = (np.histogram(data['position_info'][position_metric],\n",
    "                             bins=place_bin_edges)[0] > 0)\n",
    "    place_fields = (replay_detector\n",
    "                    ._spiking_likelihood\n",
    "                    .keywords['place_conditional_intensity'].T\n",
    "                    * sampling_frequency)\n",
    "    place_fields[:, ~is_track] = 0.0\n",
    "\n",
    "    spikes = data['spikes'].loc[start_time:end_time]\n",
    "    plot_replay_spiking_ordered_by_place_fields(\n",
    "        spikes.values, place_fields, place_bin_centers, ax=axes[2],\n",
    "        time=time, s=20)\n",
    "    axes[2].set_yticks([])\n",
    "    axes[2].set_yticklabels([], [])\n",
    "    axes[2].tick_params(length=0)\n",
    "    axes[2].set_xlabel('')\n",
    "    \n",
    "    axes[2].set_xlim((time.min(), time.max()))\n",
    "    axes[2].set_xlabel('Time [s]')\n",
    "    sns.despine()"
   ]
  },
  {
   "cell_type": "code",
   "execution_count": 295,
   "metadata": {},
   "outputs": [
    {
     "data": {
      "image/png": "[encoded data removed]",
      "text/plain": [
       "<Figure size 252.283x252.283 with 5 Axes>"
      ]
     },
     "metadata": {
      "image/png": {
       "height": 260,
       "width": 260
      }
     },
     "output_type": "display_data"
    }
   ],
   "source": [
    "import pandas as pd\n",
    "\n",
    "replay_info = data['ripple_times'].copy()\n",
    "replay_number = 189\n",
    "\n",
    "plot_replay_with_data(replay_number, data, replay_info, epoch_key=None,\n",
    "                          replay_detector=replay_detector,\n",
    "                          spikes_detector_results=detector_results,\n",
    "                          lfp_power_detector_results=None,\n",
    "                          multiunit_detector_results=None,\n",
    "                          sampling_frequency=1500,\n",
    "                          offset=pd.Timedelta(0.250, 's'),\n",
    "                          position_metric=position_metric,\n",
    "                          speed_metric=speed_metric,\n",
    "                          is_relative_time=False,\n",
    "                          show_data_types=['spikes'], show_result_types=['spikes']);\n",
    "\n",
    "fig_dir = '/Users/edeno/Documents/GitHub/Characterizing-hippocampal-replay-using-hybrid-point-process-state-space-models/'\n",
    "plt.savefig(fig_dir + 'fig2.pdf',\n",
    "            transparent=True, dpi=300, bbox_inches='tight')"
   ]
  },
  {
   "cell_type": "code",
   "execution_count": null,
   "metadata": {},
   "outputs": [],
   "source": [
    "is_replay = data['is_ripple'].values\n"
   ]
  }
 ],
 "metadata": {
  "kernelspec": {
   "display_name": "Python [conda env:Replay_ID_2018] *",
   "language": "python",
   "name": "conda-env-Replay_ID_2018-py"
  },
  "language_info": {
   "codemirror_mode": {
    "name": "ipython",
    "version": 3
   },
   "file_extension": ".py",
   "mimetype": "text/x-python",
   "name": "python",
   "nbconvert_exporter": "python",
   "pygments_lexer": "ipython3",
   "version": "3.6.7"
  }
 },
 "nbformat": 4,
 "nbformat_minor": 4
}
